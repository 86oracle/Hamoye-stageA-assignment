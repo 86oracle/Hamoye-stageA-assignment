{
 "cells": [
  {
   "cell_type": "code",
   "execution_count": 3,
   "metadata": {},
   "outputs": [
    {
     "name": "stdout",
     "output_type": "stream",
     "text": [
      "651.3694501337732\n",
      "15.851495469109503\n"
     ]
    },
    {
     "data": {
      "text/plain": [
       "11140.19723948813"
      ]
     },
     "execution_count": 3,
     "metadata": {},
     "output_type": "execute_result"
    }
   ],
   "source": [
    "# CODES FOR THE GRADED ASSIGNMENT\n",
    "import numpy as np\n",
    "import pandas as pd\n",
    "fuel_data = pd.read_csv(\"fuel_ferc1.csv\")\n",
    "\n",
    "#NUMBER 3 \n",
    "fuel_data.groupby(\"fuel_type_code_pudl\")[\"fuel_cost_per_unit_burned\"].mean()\n",
    "\n",
    "#NUMBER 4\n",
    "fuel_data[\"fuel_mmbtu_per_unit\"].describe()\n",
    "\n",
    "#NUMBER 5\n",
    "r=fuel_data[\"fuel_qty_burned\"].kurtosis()\n",
    "t=fuel_data[\"fuel_qty_burned\"].skew()            \n",
    "print(r)\n",
    "print(t)\n",
    "\n",
    "#NUMBER 6\n",
    "Feature=fuel_data.isnull().sum()    \n",
    "Feature\n",
    "Feature[5]                                        # Number6a\n",
    "\n",
    "Total=fuel_data.shape[0]   \n",
    "Total                                             # Number6b\n",
    "\n",
    "\n",
    "(Feature[5]/Total)*100                            # Number6C\n",
    "\n",
    "#  Number 8\n",
    "fuel_data.corr()[\"fuel_cost_per_unit_burned\"] \n",
    "\n",
    "#Number 9\n",
    "coal_fuel_1994=fuel_data.set_index([\"fuel_type_code_pudl\",\"report_year\"]).loc[\"coal\"].loc[1994][\"fuel_cost_per_unit_burned\"].sum()\n",
    "coal_fuel_1998=fuel_data.set_index([\"fuel_type_code_pudl\",\"report_year\"]).loc[\"coal\"].loc[1998][\"fuel_cost_per_unit_burned\"].sum()\n",
    "percent_change=((coal_fuel_1994-coal_fuel_1998)/coal_fuel_1994)*100         \n",
    "percent_change\n",
    "\n",
    "#Number 10\n",
    "max_year=fuel_data.groupby(\"report_year\")[\"fuel_cost_per_unit_delivered\"].mean()\n",
    "max_year.max()                       "
   ]
  },
  {
   "cell_type": "code",
   "execution_count": null,
   "metadata": {},
   "outputs": [],
   "source": []
  }
 ],
 "metadata": {
  "kernelspec": {
   "display_name": "Python 3",
   "language": "python",
   "name": "python3"
  },
  "language_info": {
   "codemirror_mode": {
    "name": "ipython",
    "version": 3
   },
   "file_extension": ".py",
   "mimetype": "text/x-python",
   "name": "python",
   "nbconvert_exporter": "python",
   "pygments_lexer": "ipython3",
   "version": "3.6.5"
  }
 },
 "nbformat": 4,
 "nbformat_minor": 2
}
